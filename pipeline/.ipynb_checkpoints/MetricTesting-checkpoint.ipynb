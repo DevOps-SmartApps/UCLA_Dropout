{
 "cells": [
  {
   "cell_type": "code",
   "execution_count": 130,
   "metadata": {
    "collapsed": false
   },
   "outputs": [],
   "source": [
    "%matplotlib inline\n",
    "\n",
    "import pandas as pd\n",
    "import matplotlib.pyplot as plt\n",
    "import numpy as np\n",
    "from scipy.spatial.distance import pdist\n",
    "from scipy.stats import pearsonr"
   ]
  },
  {
   "cell_type": "code",
   "execution_count": 2,
   "metadata": {
    "collapsed": true
   },
   "outputs": [],
   "source": [
    "df = pd.read_csv('feature_table.csv')"
   ]
  },
  {
   "cell_type": "code",
   "execution_count": 4,
   "metadata": {
    "collapsed": false
   },
   "outputs": [],
   "source": [
    "#Try various metrics (euclidean, manhattan, minkowski, etc.) on subset of columns"
   ]
  },
  {
   "cell_type": "code",
   "execution_count": 190,
   "metadata": {
    "collapsed": false
   },
   "outputs": [],
   "source": [
    "feat_list = ['is_male', 'alph_term', 'number_courses_so_far', 'terms_so_far', 'running_gpa', 'quarter_count', 'gpa_last_quarter']\n",
    "sub_df = df[feat_list + ['drops_out_in_next_year']]\n",
    "samp_sub_df = sub_df.sample(frac = 1000.0/len(sub_df))\n",
    "feat_df = samp_sub_df[feat_list]\n",
    "drop_list = samp_sub_df.drops_out_in_next_year"
   ]
  },
  {
   "cell_type": "code",
   "execution_count": 191,
   "metadata": {
    "collapsed": false
   },
   "outputs": [],
   "source": [
    "sim_mtx_eucl = np.zeros((len(samp_sub_df), len(samp_sub_df)))\n",
    "eucl_values = []\n",
    "samp_mtx = samp_sub_df.as_matrix()\n",
    "Y_dict = {}\n",
    "\n",
    "metric_names = ['euclidean', 'cityblock', 'minkowski', 'cosine', 'hamming', 'jaccard', 'chebyshev', \n",
    "                'correlation', 'canberra', 'braycurtis','mahalanobis', 'matching', 'dice', \n",
    "                'kulsinski']\n",
    "\n",
    "for name in metric_names:\n",
    "    Y_dict[name] = pdist(feat_df.as_matrix(), name)\n",
    "\n",
    "Y_drop = [int(i==0) for i in pdist(zip(drop_list,drop_list), 'cityblock')]"
   ]
  },
  {
   "cell_type": "markdown",
   "metadata": {},
   "source": [
    "# Correlation between metrics and dropout similarities"
   ]
  },
  {
   "cell_type": "code",
   "execution_count": 192,
   "metadata": {
    "collapsed": false
   },
   "outputs": [
    {
     "name": "stdout",
     "output_type": "stream",
     "text": [
      "EUCLIDEAN\n",
      "-0.104094276334\n",
      "------\n",
      "CITYBLOCK\n",
      "-0.109968606476\n",
      "------\n",
      "MINKOWSKI\n",
      "-0.104094276334\n",
      "------\n",
      "COSINE\n",
      "-0.0470806204889\n",
      "------\n",
      "HAMMING\n",
      "-0.0568144908218\n",
      "------\n",
      "JACCARD\n",
      "-0.051428003483\n",
      "------\n",
      "CHEBYSHEV\n",
      "-0.0802018106903\n",
      "------\n",
      "CORRELATION\n",
      "-0.0744980485591\n",
      "------\n",
      "CANBERRA\n",
      "-0.0312390588717\n",
      "------\n",
      "BRAYCURTIS\n",
      "-0.0352283875273\n",
      "------\n",
      "MAHALANOBIS\n",
      "nan\n",
      "------\n",
      "MATCHING\n",
      "-0.000200328022838\n",
      "------\n",
      "DICE\n",
      "0.00193897538284\n",
      "------\n",
      "KULSINSKI\n",
      "0.0295273609581\n",
      "------\n"
     ]
    }
   ],
   "source": [
    "for name in metric_names:\n",
    "    print name.upper()\n",
    "    print pearsonr(Y_dict[name], Y_drop)[0]\n",
    "    print '------'"
   ]
  },
  {
   "cell_type": "code",
   "execution_count": null,
   "metadata": {
    "collapsed": true
   },
   "outputs": [],
   "source": [
    "for name in metric_names:\n",
    "    plt.hist(Y_dict[name], bin)"
   ]
  },
  {
   "cell_type": "code",
   "execution_count": null,
   "metadata": {
    "collapsed": true
   },
   "outputs": [],
   "source": []
  }
 ],
 "metadata": {
  "anaconda-cloud": {},
  "kernelspec": {
   "display_name": "Python [Root]",
   "language": "python",
   "name": "Python [Root]"
  },
  "language_info": {
   "codemirror_mode": {
    "name": "ipython",
    "version": 2
   },
   "file_extension": ".py",
   "mimetype": "text/x-python",
   "name": "python",
   "nbconvert_exporter": "python",
   "pygments_lexer": "ipython2",
   "version": "2.7.12"
  }
 },
 "nbformat": 4,
 "nbformat_minor": 0
}
